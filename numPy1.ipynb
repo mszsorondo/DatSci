{
 "cells": [
  {
   "cell_type": "code",
   "execution_count": 2,
   "metadata": {},
   "outputs": [
    {
     "data": {
      "text/plain": [
       "array([-0.88638072,  0.02109864,  0.20820352,  0.04391589,  1.04924483])"
      ]
     },
     "execution_count": 2,
     "metadata": {},
     "output_type": "execute_result"
    }
   ],
   "source": [
    "import numpy as np\n",
    "array1 = np.array([1,2,3], dtype='int64')\n",
    "array1\n",
    "array2 = array1.astype('float64')\n",
    "array2\n",
    "array3 = np.array([[1,2],[3,5]], dtype='int64')\n",
    "array3\n",
    "array4 = np.arange(4)\n",
    "array4\n",
    "arrayones = np.ones(5)\n",
    "arrayones\n",
    "arrayonesas = np.ones_like(array4)\n",
    "arrayonesas\n",
    "matrixId = np.identity(5)\n",
    "matrixId\n",
    "\n",
    "\n",
    "\n"
   ]
  },
  {
   "cell_type": "code",
   "execution_count": 3,
   "metadata": {},
   "outputs": [
    {
     "data": {
      "text/plain": [
       "array([-0.07871041, -0.45874573,  0.12229248,  0.11795339,  0.70979855])"
      ]
     },
     "execution_count": 3,
     "metadata": {},
     "output_type": "execute_result"
    }
   ],
   "source": [
    "#array arithmetics\n",
    "a1 = np.array([1,7,3])\n",
    "a2 = np.array([4,5,6])\n",
    "a1 + a2\n",
    "a1*a2\n",
    "5 * a1\n",
    "a1 > a2\n",
    "\n",
    "#indexing and slicing\n",
    "arr = np.array([6,4,9,2,5,7])\n",
    "arrnew = arr[3:5]\n",
    "arrnew\n",
    "\n",
    "#now see how modifying arrnew makes the same changes on the respective sliced elements in the original array:\n",
    "arrnew[:] = 73 #synthax for modifying an entire list of elements\n",
    "arrnew\n",
    "arr\n",
    "\"\"\"\"\"this is because numpy does not copy information from other arrays when you slice them, they just get the same\n",
    "pieces of memory from the original, the reason for this is that it would be very costly to create new spaces of memory\n",
    "for each array sliced\"\"\"\n",
    "\n",
    "#still, there is a way to copy a slice of an array...\n",
    "copied = arr[2:5].copy()\n",
    "arr[3:5] = [4,5]\n",
    "arr\n",
    "copied\n",
    "# note that they are different\n",
    "\n",
    "\n"
   ]
  },
  {
   "cell_type": "code",
   "execution_count": 4,
   "metadata": {},
   "outputs": [
    {
     "data": {
      "text/plain": [
       "array([ 0.06520965,  0.19854982, -0.73984145, -2.16522346,  0.33544361])"
      ]
     },
     "execution_count": 4,
     "metadata": {},
     "output_type": "execute_result"
    }
   ],
   "source": [
    "#lets see how to access 'multi-dimensional arrays'\n",
    "marray = np.array([[1,2,3],[54,6,3],[73,37,12]], dtype='int64')\n",
    "#see th two ways to access the array...\n",
    "marray[1][2]\n",
    "marray[1,2] #easier to access: first integer stands for the first element of the list, second for the second element inside\n",
    "\n",
    "\n",
    "#indexing with boolean values\n",
    "randnormalmat = np.random.randn(6,5)#genera un array de dimension 3x2 que posee valores aleatorios de una distribucion normal estandar (media de cero y variacion aproximada de +-1)\n",
    "\n",
    "names = np.array(['marco', 'carlos', 'marco', 'belisario', 'bautista', 'marco'], dtype='string')\n",
    "randnormalmat[names=='marco'] #como los unicos elementos que cumplen con la condicion son el primero, el tercero y el sexto\n",
    "#entonces nos devuelven los indices 0, 2 y 5 del array con valores normales. esto es, la primera tercera y sexta fila.\n",
    "'''you can also use multiple conditions with | and &'''\n",
    "randnormalmat[(names=='belisario') | (names =='carlos'), 2:] = 0 # para los elementos de igual indice que el carlos o belisario, asignar el valor cero desde el tercer elemento en adelante\n",
    "\n",
    "randnormalmat\n",
    "\n",
    "names == 'marco'\n",
    "\n",
    "arr = np.arange(32).reshape((8, 4))\n",
    "arr2 = arr.T \n",
    "arr2 #transposed arr copy\n",
    "\n"
   ]
  },
  {
   "cell_type": "code",
   "execution_count": 5,
   "metadata": {},
   "outputs": [
    {
     "data": {
      "text/plain": [
       "array([-2.99753192, -0.0579698 , -1.2666711 , -0.06712349,  0.32924504])"
      ]
     },
     "execution_count": 5,
     "metadata": {},
     "output_type": "execute_result"
    }
   ],
   "source": [
    "## antes de hacer lo siguiente, repasá y practica un poco el slicing y el indexing y transposicion\n",
    "\n",
    "#universal functions\n",
    "arai1 = np.random.randn(5)\n",
    "\n",
    "arai2 = np.random.randn(5)\n",
    "arai1, arai2\n",
    "np.floor(arai1) #unary universal function, applied to each element of the array\n",
    "\n",
    "np.multiply(arai1, arai2) #binary ufunc, multiplies the two given arrays element by element\n"
   ]
  },
  {
   "cell_type": "code",
   "execution_count": null,
   "metadata": {},
   "outputs": [],
   "source": []
  }
 ],
 "metadata": {
  "kernelspec": {
   "display_name": "Python 2",
   "language": "python",
   "name": "python2"
  },
  "language_info": {
   "codemirror_mode": {
    "name": "ipython",
    "version": 2
   },
   "file_extension": ".py",
   "mimetype": "text/x-python",
   "name": "python",
   "nbconvert_exporter": "python",
   "pygments_lexer": "ipython2",
   "version": "2.7.16"
  }
 },
 "nbformat": 4,
 "nbformat_minor": 2
}
